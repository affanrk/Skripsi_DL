{
 "cells": [
  {
   "cell_type": "code",
   "execution_count": 1,
   "metadata": {},
   "outputs": [
    {
     "name": "stderr",
     "output_type": "stream",
     "text": [
      "d:\\KULIAH SEMT 8 AFFAN\\SKRIPSI\\Skripsi_DL\\.venv\\lib\\site-packages\\tqdm\\auto.py:21: TqdmWarning: IProgress not found. Please update jupyter and ipywidgets. See https://ipywidgets.readthedocs.io/en/stable/user_install.html\n",
      "  from .autonotebook import tqdm as notebook_tqdm\n"
     ]
    }
   ],
   "source": [
    "import torch\n",
    "import torch_directml\n",
    "import pandas as pd\n",
    "\n",
    "from model import mobilevig\n",
    "from IPython.display import display, HTML"
   ]
  },
  {
   "cell_type": "code",
   "execution_count": 2,
   "metadata": {},
   "outputs": [],
   "source": [
    "device = torch_directml.device()\n",
    "model = mobilevig.mobilevig_ti().to(device)"
   ]
  },
  {
   "cell_type": "code",
   "execution_count": 3,
   "metadata": {},
   "outputs": [],
   "source": [
    "# Fungsi Perhitungan Blok\n",
    "def count_blocks(modules):\n",
    "    count = 0\n",
    "    for module in modules:\n",
    "        if isinstance(module, (torch.nn.Sequential, torch.nn.ModuleList)):\n",
    "            count += len(module)\n",
    "        else:\n",
    "            count += 1\n",
    "    return count"
   ]
  },
  {
   "cell_type": "code",
   "execution_count": 4,
   "metadata": {},
   "outputs": [
    {
     "name": "stdout",
     "output_type": "stream",
     "text": [
      "\n",
      "Layer dalam Local Backbone:\n"
     ]
    },
    {
     "data": {
      "text/html": [
       "<table border=\"1\" class=\"dataframe\">\n",
       "  <thead>\n",
       "    <tr style=\"text-align: right;\">\n",
       "      <th>Blok</th>\n",
       "      <th>Layer Type</th>\n",
       "    </tr>\n",
       "  </thead>\n",
       "  <tbody>\n",
       "    <tr>\n",
       "      <td>1</td>\n",
       "      <td>InvertedResidual</td>\n",
       "    </tr>\n",
       "    <tr>\n",
       "      <td>2</td>\n",
       "      <td>InvertedResidual</td>\n",
       "    </tr>\n",
       "    <tr>\n",
       "      <td>3</td>\n",
       "      <td>Downsample</td>\n",
       "    </tr>\n",
       "    <tr>\n",
       "      <td>4</td>\n",
       "      <td>InvertedResidual</td>\n",
       "    </tr>\n",
       "    <tr>\n",
       "      <td>5</td>\n",
       "      <td>InvertedResidual</td>\n",
       "    </tr>\n",
       "    <tr>\n",
       "      <td>6</td>\n",
       "      <td>Downsample</td>\n",
       "    </tr>\n",
       "    <tr>\n",
       "      <td>7</td>\n",
       "      <td>InvertedResidual</td>\n",
       "    </tr>\n",
       "    <tr>\n",
       "      <td>8</td>\n",
       "      <td>InvertedResidual</td>\n",
       "    </tr>\n",
       "    <tr>\n",
       "      <td>9</td>\n",
       "      <td>InvertedResidual</td>\n",
       "    </tr>\n",
       "    <tr>\n",
       "      <td>10</td>\n",
       "      <td>InvertedResidual</td>\n",
       "    </tr>\n",
       "    <tr>\n",
       "      <td>11</td>\n",
       "      <td>InvertedResidual</td>\n",
       "    </tr>\n",
       "    <tr>\n",
       "      <td>12</td>\n",
       "      <td>InvertedResidual</td>\n",
       "    </tr>\n",
       "    <tr>\n",
       "      <td>13</td>\n",
       "      <td>Downsample</td>\n",
       "    </tr>\n",
       "  </tbody>\n",
       "</table>"
      ],
      "text/plain": [
       "<IPython.core.display.HTML object>"
      ]
     },
     "metadata": {},
     "output_type": "display_data"
    },
    {
     "name": "stdout",
     "output_type": "stream",
     "text": [
      "\n",
      "Layer dalam Backbone:\n"
     ]
    },
    {
     "data": {
      "text/html": [
       "<table border=\"1\" class=\"dataframe\">\n",
       "  <thead>\n",
       "    <tr style=\"text-align: right;\">\n",
       "      <th>Blok</th>\n",
       "      <th>Layer Type</th>\n",
       "    </tr>\n",
       "  </thead>\n",
       "  <tbody>\n",
       "    <tr>\n",
       "      <td>1</td>\n",
       "      <td>Sequential</td>\n",
       "    </tr>\n",
       "    <tr>\n",
       "      <td>1.1</td>\n",
       "      <td>Grapher</td>\n",
       "    </tr>\n",
       "    <tr>\n",
       "      <td>1.2</td>\n",
       "      <td>FFN</td>\n",
       "    </tr>\n",
       "    <tr>\n",
       "      <td>2</td>\n",
       "      <td>Sequential</td>\n",
       "    </tr>\n",
       "    <tr>\n",
       "      <td>2.1</td>\n",
       "      <td>Grapher</td>\n",
       "    </tr>\n",
       "    <tr>\n",
       "      <td>2.2</td>\n",
       "      <td>FFN</td>\n",
       "    </tr>\n",
       "  </tbody>\n",
       "</table>"
      ],
      "text/plain": [
       "<IPython.core.display.HTML object>"
      ]
     },
     "metadata": {},
     "output_type": "display_data"
    }
   ],
   "source": [
    "# Display BLok dari Local dan Global Backbone\n",
    "local_backbone = count_blocks(model.local_backbone)\n",
    "backbone = count_blocks(model.backbone)\n",
    "\n",
    "# Create DataFrames to display layers in table format\n",
    "local_backbone_layers = []\n",
    "for i, layer in enumerate(model.local_backbone):\n",
    "    local_backbone_layers.append({\n",
    "        \"Blok\": i + 1,\n",
    "        \"Layer Type\": layer.__class__.__name__\n",
    "    })\n",
    "\n",
    "local_backbone_df = pd.DataFrame(local_backbone_layers)\n",
    "\n",
    "backbone_layers = []\n",
    "for i, layer in enumerate(model.backbone):\n",
    "    backbone_layers.append({\n",
    "        \"Blok\": i + 1,\n",
    "        \"Layer Type\": layer.__class__.__name__\n",
    "    })\n",
    "    if isinstance(layer, torch.nn.Sequential):\n",
    "        for j, sublayer in enumerate(layer):\n",
    "            backbone_layers.append({\n",
    "                \"Blok\": f\"{i + 1}.{j + 1}\",\n",
    "                \"Layer Type\": sublayer.__class__.__name__\n",
    "            })\n",
    "\n",
    "backbone_df = pd.DataFrame(backbone_layers)\n",
    "\n",
    "# Display the DataFrames with borders\n",
    "print(\"\\nLayer dalam Local Backbone:\")\n",
    "display(HTML(local_backbone_df.to_html(index=False, border=1)))\n",
    "\n",
    "print(\"\\nLayer dalam Backbone:\")\n",
    "display(HTML(backbone_df.to_html(index=False, border=1)))"
   ]
  }
 ],
 "metadata": {
  "kernelspec": {
   "display_name": ".venv",
   "language": "python",
   "name": "python3"
  },
  "language_info": {
   "codemirror_mode": {
    "name": "ipython",
    "version": 3
   },
   "file_extension": ".py",
   "mimetype": "text/x-python",
   "name": "python",
   "nbconvert_exporter": "python",
   "pygments_lexer": "ipython3",
   "version": "3.10.0"
  }
 },
 "nbformat": 4,
 "nbformat_minor": 2
}
